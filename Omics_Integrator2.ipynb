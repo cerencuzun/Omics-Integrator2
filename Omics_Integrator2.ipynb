{
  "nbformat": 4,
  "nbformat_minor": 0,
  "metadata": {
    "colab": {
      "provenance": []
    },
    "kernelspec": {
      "name": "python3",
      "display_name": "Python 3"
    },
    "language_info": {
      "name": "python"
    }
  },
  "cells": [
    {
      "cell_type": "code",
      "source": [
        "from google.colab import drive\n",
        "drive.mount('/content/gdrive')"
      ],
      "metadata": {
        "colab": {
          "base_uri": "https://localhost:8080/"
        },
        "id": "zarKboPXsgEp",
        "outputId": "26c765d3-bafa-40ec-c9bc-b1b0282662c9"
      },
      "execution_count": 3,
      "outputs": [
        {
          "output_type": "stream",
          "name": "stdout",
          "text": [
            "Mounted at /content/gdrive\n"
          ]
        }
      ]
    },
    {
      "cell_type": "markdown",
      "source": [
        "# **Install Omics Integrator**"
      ],
      "metadata": {
        "id": "2KRHO7yJg6TN"
      }
    },
    {
      "cell_type": "code",
      "execution_count": 4,
      "metadata": {
        "id": "AO3cdHq9RVGA",
        "colab": {
          "base_uri": "https://localhost:8080/"
        },
        "outputId": "91c59701-2d27-47d5-bbc6-9bf2d71c841a"
      },
      "outputs": [
        {
          "output_type": "stream",
          "name": "stdout",
          "text": [
            "Looking in indexes: https://pypi.org/simple, https://us-python.pkg.dev/colab-wheels/public/simple/\n",
            "Requirement already satisfied: OmicsIntegrator in /usr/local/lib/python3.9/dist-packages (2.3.10)\n",
            "Looking in indexes: https://pypi.org/simple, https://us-python.pkg.dev/colab-wheels/public/simple/\n",
            "Requirement already satisfied: pcst_fast in /usr/local/lib/python3.9/dist-packages (1.0.7)\n",
            "Requirement already satisfied: axial in /usr/local/lib/python3.9/dist-packages (0.2.3)\n",
            "Requirement already satisfied: pybind11>=2.1.0 in /usr/local/lib/python3.9/dist-packages (from pcst_fast) (2.10.3)\n",
            "Requirement already satisfied: requests in /usr/local/lib/python3.9/dist-packages (from axial) (2.25.1)\n",
            "Requirement already satisfied: pandas>=0.23.4 in /usr/local/lib/python3.9/dist-packages (from axial) (1.3.5)\n",
            "Requirement already satisfied: jinja2 in /usr/local/lib/python3.9/dist-packages (from axial) (3.1.2)\n",
            "Requirement already satisfied: networkx>=2.1 in /usr/local/lib/python3.9/dist-packages (from axial) (3.0)\n",
            "Requirement already satisfied: python-dateutil>=2.7.3 in /usr/local/lib/python3.9/dist-packages (from pandas>=0.23.4->axial) (2.8.2)\n",
            "Requirement already satisfied: numpy>=1.17.3 in /usr/local/lib/python3.9/dist-packages (from pandas>=0.23.4->axial) (1.22.4)\n",
            "Requirement already satisfied: pytz>=2017.3 in /usr/local/lib/python3.9/dist-packages (from pandas>=0.23.4->axial) (2022.7.1)\n",
            "Requirement already satisfied: MarkupSafe>=2.0 in /usr/local/lib/python3.9/dist-packages (from jinja2->axial) (2.1.2)\n",
            "Requirement already satisfied: urllib3<1.27,>=1.21.1 in /usr/local/lib/python3.9/dist-packages (from requests->axial) (1.26.14)\n",
            "Requirement already satisfied: certifi>=2017.4.17 in /usr/local/lib/python3.9/dist-packages (from requests->axial) (2022.12.7)\n",
            "Requirement already satisfied: idna<3,>=2.5 in /usr/local/lib/python3.9/dist-packages (from requests->axial) (2.10)\n",
            "Requirement already satisfied: chardet<5,>=3.0.2 in /usr/local/lib/python3.9/dist-packages (from requests->axial) (4.0.0)\n",
            "Requirement already satisfied: six>=1.5 in /usr/local/lib/python3.9/dist-packages (from python-dateutil>=2.7.3->pandas>=0.23.4->axial) (1.15.0)\n",
            "Looking in indexes: https://pypi.org/simple, https://us-python.pkg.dev/colab-wheels/public/simple/\n",
            "Collecting python-louvain\n",
            "  Using cached python_louvain-0.16-py3-none-any.whl\n",
            "Installing collected packages: python-louvain\n",
            "  Attempting uninstall: python-louvain\n",
            "    Found existing installation: python-louvain 0.16\n",
            "    Uninstalling python-louvain-0.16:\n",
            "      Successfully uninstalled python-louvain-0.16\n",
            "Successfully installed python-louvain-0.16\n"
          ]
        }
      ],
      "source": [
        "! pip install OmicsIntegrator --no-deps\n",
        "! pip install pcst_fast axial\n",
        "! pip install --upgrade --force-reinstall --no-deps python-louvain"
      ]
    },
    {
      "cell_type": "markdown",
      "source": [
        "# **Import Libraries**"
      ],
      "metadata": {
        "id": "YHzNYzjEhBey"
      }
    },
    {
      "cell_type": "code",
      "source": [
        "import OmicsIntegrator as oi\n",
        "import pandas as pd\n",
        "import numpy as np\n",
        "import networkx as nx"
      ],
      "metadata": {
        "id": "dfith5PGSQZC"
      },
      "execution_count": 5,
      "outputs": []
    },
    {
      "cell_type": "markdown",
      "source": [
        "# **Prepare Interactome and Prize Files**"
      ],
      "metadata": {
        "id": "L8l5JBOHhVFu"
      }
    },
    {
      "cell_type": "code",
      "source": [
        "interactome_file= \"/content/gdrive/MyDrive/Wintercamp/OmicsIntegrator/Human/inputs/HIPPIE-current.mitab.txt\"\n",
        "prize_file= \"/content/gdrive/MyDrive/Wintercamp/OmicsIntegrator/Human/inputs/Prizes.txt\"\n",
        "\n",
        "interactome= pd.read_csv(interactome_file, sep=\"\\t\")\n",
        "interactome = interactome[['Gene Name Interactor A', 'Gene Name Interactor B', 'Confidence Value']]\n",
        "interactome = interactome.rename(columns={'Gene Name Interactor A': 'protein1', 'Gene Name Interactor B': 'protein2'})\n",
        "interactome['cost'] = 1.5 - interactome['Confidence Value']\n",
        "interactome.dropna(inplace=True)\n",
        "del interactome['Confidence Value']\n",
        "\n",
        "interactome.to_csv('interactome.txt', sep='\\t', index= False)\n",
        "interactome_file = 'interactome.txt'"
      ],
      "metadata": {
        "id": "2pGCegb6Tkrd",
        "colab": {
          "base_uri": "https://localhost:8080/"
        },
        "outputId": "0b8b247a-3871-4c4b-fd8f-97dc6921adb3"
      },
      "execution_count": 6,
      "outputs": [
        {
          "output_type": "stream",
          "name": "stderr",
          "text": [
            "/usr/local/lib/python3.9/dist-packages/IPython/core/interactiveshell.py:3326: DtypeWarning: Columns (12,15) have mixed types.Specify dtype option on import or set low_memory=False.\n",
            "  exec(code_obj, self.user_global_ns, self.user_ns)\n"
          ]
        }
      ]
    },
    {
      "cell_type": "code",
      "source": [
        "params = {\n",
        "    \"noise\": 0.1, \n",
        "    \"dummy_mode\": \"terminals\", \n",
        "    \"exclude_terminals\": False, \n",
        "    \"seed\": 1\n",
        "}\n",
        "\n",
        "graph=oi.Graph(interactome_file,params)\n",
        "graph.prepare_prizes(prize_file)"
      ],
      "metadata": {
        "colab": {
          "base_uri": "https://localhost:8080/"
        },
        "id": "PR-PTa_aeV9K",
        "outputId": "cad0488a-bb98-41cf-f7e6-88dbd32fb7c8"
      },
      "execution_count": 7,
      "outputs": [
        {
          "output_type": "stream",
          "name": "stderr",
          "text": [
            "09:33:35 - OI2: INFO - Duplicated gene symbols in the prize file (we'll keep the max prize):\n",
            "INFO:OmicsIntegrator.graph:Duplicated gene symbols in the prize file (we'll keep the max prize):\n",
            "09:33:35 - OI2: INFO - []\n",
            "INFO:OmicsIntegrator.graph:[]\n",
            "09:33:35 - OI2: INFO - Members of the prize file not present in the interactome:\n",
            "INFO:OmicsIntegrator.graph:Members of the prize file not present in the interactome:\n",
            "09:33:35 - OI2: INFO - ['CFHR1', 'H2AC20', 'H2BC21', 'IGHV1-24', 'IGHV2-26', 'IGHV5-51', 'IGLV9-49', 'KRTDAP', 'SAA1', 'SAA2']\n",
            "INFO:OmicsIntegrator.graph:['CFHR1', 'H2AC20', 'H2BC21', 'IGHV1-24', 'IGHV2-26', 'IGHV5-51', 'IGLV9-49', 'KRTDAP', 'SAA1', 'SAA2']\n"
          ]
        }
      ]
    },
    {
      "cell_type": "markdown",
      "source": [
        "# **Hyperparameter Tuning with Grid Search**"
      ],
      "metadata": {
        "id": "94lqWNyIhMwb"
      }
    },
    {
      "cell_type": "code",
      "source": [
        "! pip install --upgrade --force-reinstall --no-deps python-louvain"
      ],
      "metadata": {
        "colab": {
          "base_uri": "https://localhost:8080/"
        },
        "id": "bzXnIy61cYz9",
        "outputId": "7b63576f-43f7-4a65-e35e-3781eeb0c64b"
      },
      "execution_count": 1,
      "outputs": [
        {
          "output_type": "stream",
          "name": "stdout",
          "text": [
            "Looking in indexes: https://pypi.org/simple, https://us-python.pkg.dev/colab-wheels/public/simple/\n",
            "Collecting python-louvain\n",
            "  Using cached python_louvain-0.16-py3-none-any.whl\n",
            "Installing collected packages: python-louvain\n",
            "  Attempting uninstall: python-louvain\n",
            "    Found existing installation: python-louvain 0.16\n",
            "    Uninstalling python-louvain-0.16:\n",
            "      Successfully uninstalled python-louvain-0.16\n",
            "Successfully installed python-louvain-0.16\n"
          ]
        }
      ]
    },
    {
      "cell_type": "code",
      "source": [
        "Ws = list(np.arange(2,6,2))\n",
        "Bs = list(np.arange(2,7,2))\n",
        "Gs = list(np.arange(2,7,2))\n",
        "\n",
        "# Or:\n",
        "\n",
        "#Ws = [2,3]\n",
        "#Bs = [4,5,6]\n",
        "#Gs = [3,4,5]\n",
        "\n",
        "params = {\n",
        "    \"noise\": 0.1, \n",
        "    \"dummy_mode\": \"terminals\", \n",
        "    \"exclude_terminals\": False, \n",
        "    \"seed\": 1\n",
        "}\n",
        "\n",
        "results = graph.grid_search(prize_file, Ws, Bs, Gs)\n",
        "membership_df = oi.summarize_grid_search(results, \"membership\")\n",
        "\n",
        "prize = pd.read_csv(prize_file,sep=\"\\t\")\n",
        "initial_nodes=list(prize.name)          \n",
        "results_with_terminals = membership_df[membership_df.index.isin(initial_nodes)]\n",
        "Initial_node_covers = results_with_terminals.sum().sort_values(ascending=False).to_frame(name=\"Covering_nodes\")\n",
        "\n",
        "out = set(Initial_node_covers[Initial_node_covers[\"Covering_nodes\"]==max(Initial_node_covers[\"Covering_nodes\"])].index)\n",
        "\n",
        "Initial_node_covers.sort_index(axis=0, inplace=True)\n",
        "membership_df.sort_index(axis=1, inplace=True)\n",
        "Total_node = membership_df.sum().to_frame(name=\"Total_nodes\")\n",
        "\n",
        "membership_df.loc['Covering nodes']=(Initial_node_covers['Covering_nodes'])\n",
        "membership_df.loc['Total_nodes']=(Total_node['Total_nodes'])\n",
        "membership_df.to_csv('membership_df_with_node_numbers.csv')"
      ],
      "metadata": {
        "id": "koRNSKZjWWFY",
        "colab": {
          "base_uri": "https://localhost:8080/"
        },
        "outputId": "0153f347-7c45-4f37-e755-3ac7e1da9cb6"
      },
      "execution_count": 8,
      "outputs": [
        {
          "output_type": "stream",
          "name": "stderr",
          "text": [
            "09:33:51 - OI2: INFO - Duplicated gene symbols in the prize file (we'll keep the max prize):\n",
            "INFO:OmicsIntegrator.graph:Duplicated gene symbols in the prize file (we'll keep the max prize):\n",
            "09:33:51 - OI2: INFO - []\n",
            "INFO:OmicsIntegrator.graph:[]\n",
            "09:33:51 - OI2: INFO - Members of the prize file not present in the interactome:\n",
            "INFO:OmicsIntegrator.graph:Members of the prize file not present in the interactome:\n",
            "09:33:51 - OI2: INFO - ['CFHR1', 'H2AC20', 'H2BC21', 'IGHV1-24', 'IGHV2-26', 'IGHV5-51', 'IGLV9-49', 'KRTDAP', 'SAA1', 'SAA2']\n",
            "INFO:OmicsIntegrator.graph:['CFHR1', 'H2AC20', 'H2BC21', 'IGHV1-24', 'IGHV2-26', 'IGHV5-51', 'IGLV9-49', 'KRTDAP', 'SAA1', 'SAA2']\n",
            "09:34:03 - OI2: INFO - Single PCSF run for W_2.00_B_2.00_G_2.00\n",
            "INFO:OmicsIntegrator.graph:Single PCSF run for W_2.00_B_2.00_G_2.00\n",
            "09:34:07 - OI2: INFO - Single PCSF run for W_2.00_B_4.00_G_2.00\n",
            "INFO:OmicsIntegrator.graph:Single PCSF run for W_2.00_B_4.00_G_2.00\n",
            "09:34:16 - OI2: INFO - Single PCSF run for W_2.00_B_2.00_G_4.00\n",
            "INFO:OmicsIntegrator.graph:Single PCSF run for W_2.00_B_2.00_G_4.00\n",
            "09:34:20 - OI2: INFO - Single PCSF run for W_2.00_B_4.00_G_4.00\n",
            "INFO:OmicsIntegrator.graph:Single PCSF run for W_2.00_B_4.00_G_4.00\n",
            "09:34:24 - OI2: INFO - Single PCSF run for W_2.00_B_2.00_G_6.00\n",
            "INFO:OmicsIntegrator.graph:Single PCSF run for W_2.00_B_2.00_G_6.00\n",
            "09:34:27 - OI2: INFO - Single PCSF run for W_2.00_B_4.00_G_6.00\n",
            "INFO:OmicsIntegrator.graph:Single PCSF run for W_2.00_B_4.00_G_6.00\n",
            "09:34:42 - OI2: INFO - Single PCSF run for W_2.00_B_6.00_G_2.00\n",
            "INFO:OmicsIntegrator.graph:Single PCSF run for W_2.00_B_6.00_G_2.00\n",
            "09:34:43 - OI2: INFO - Single PCSF run for W_4.00_B_2.00_G_2.00\n",
            "INFO:OmicsIntegrator.graph:Single PCSF run for W_4.00_B_2.00_G_2.00\n",
            "09:34:55 - OI2: INFO - Single PCSF run for W_2.00_B_6.00_G_4.00\n",
            "INFO:OmicsIntegrator.graph:Single PCSF run for W_2.00_B_6.00_G_4.00\n",
            "09:34:57 - OI2: INFO - Single PCSF run for W_4.00_B_2.00_G_4.00\n",
            "INFO:OmicsIntegrator.graph:Single PCSF run for W_4.00_B_2.00_G_4.00\n",
            "09:35:01 - OI2: INFO - Single PCSF run for W_2.00_B_6.00_G_6.00\n",
            "INFO:OmicsIntegrator.graph:Single PCSF run for W_2.00_B_6.00_G_6.00\n",
            "09:35:09 - OI2: INFO - Single PCSF run for W_4.00_B_2.00_G_6.00\n",
            "INFO:OmicsIntegrator.graph:Single PCSF run for W_4.00_B_2.00_G_6.00\n",
            "09:35:12 - OI2: INFO - Single PCSF run for W_4.00_B_4.00_G_2.00\n",
            "INFO:OmicsIntegrator.graph:Single PCSF run for W_4.00_B_4.00_G_2.00\n",
            "09:35:17 - OI2: INFO - Single PCSF run for W_4.00_B_6.00_G_2.00\n",
            "INFO:OmicsIntegrator.graph:Single PCSF run for W_4.00_B_6.00_G_2.00\n",
            "09:35:24 - OI2: INFO - Single PCSF run for W_4.00_B_4.00_G_4.00\n",
            "INFO:OmicsIntegrator.graph:Single PCSF run for W_4.00_B_4.00_G_4.00\n",
            "09:35:29 - OI2: INFO - Single PCSF run for W_4.00_B_6.00_G_4.00\n",
            "INFO:OmicsIntegrator.graph:Single PCSF run for W_4.00_B_6.00_G_4.00\n",
            "09:35:35 - OI2: INFO - Single PCSF run for W_4.00_B_4.00_G_6.00\n",
            "INFO:OmicsIntegrator.graph:Single PCSF run for W_4.00_B_4.00_G_6.00\n",
            "09:35:41 - OI2: INFO - Single PCSF run for W_4.00_B_6.00_G_6.00\n",
            "INFO:OmicsIntegrator.graph:Single PCSF run for W_4.00_B_6.00_G_6.00\n"
          ]
        }
      ]
    },
    {
      "cell_type": "markdown",
      "source": [
        "Select Parameters and "
      ],
      "metadata": {
        "id": "_gj4Kw02p6mu"
      }
    },
    {
      "cell_type": "code",
      "source": [
        "#Selected Parameters\n",
        "w=2\n",
        "b=2\n",
        "g=2"
      ],
      "metadata": {
        "id": "RLZd3MUGltGP"
      },
      "execution_count": 9,
      "outputs": []
    },
    {
      "cell_type": "code",
      "source": [
        "graph = oi.Graph(interactome_file, {'w':w, 'b':b, 'g':g,})\n",
        "graph.prepare_prizes(prize_file)\n",
        "vertex_indices, edge_indices = graph.pcsf()\n",
        "\n",
        "print(len(vertex_indices))\n",
        "\n",
        "forest, augmented_forest = graph.output_forest_as_networkx(vertex_indices, edge_indices)\n",
        "print(graph.pcsf_objective_value(augmented_forest))\n",
        "\n",
        "# removing self loops\n",
        "augmented_forest.remove_edges_from(nx.selfloop_edges(augmented_forest))\n",
        "forest.remove_edges_from(nx.selfloop_edges(forest))"
      ],
      "metadata": {
        "colab": {
          "base_uri": "https://localhost:8080/"
        },
        "id": "nYgcUya9lv8Y",
        "outputId": "be1c3a19-f00f-4f9d-8d67-01c459635adf"
      },
      "execution_count": 10,
      "outputs": [
        {
          "output_type": "stream",
          "name": "stderr",
          "text": [
            "09:36:50 - OI2: INFO - Duplicated gene symbols in the prize file (we'll keep the max prize):\n",
            "INFO:OmicsIntegrator.graph:Duplicated gene symbols in the prize file (we'll keep the max prize):\n",
            "09:36:50 - OI2: INFO - []\n",
            "INFO:OmicsIntegrator.graph:[]\n",
            "09:36:51 - OI2: INFO - Members of the prize file not present in the interactome:\n",
            "INFO:OmicsIntegrator.graph:Members of the prize file not present in the interactome:\n",
            "09:36:51 - OI2: INFO - ['CFHR1', 'H2AC20', 'H2BC21', 'IGHV1-24', 'IGHV2-26', 'IGHV5-51', 'IGLV9-49', 'KRTDAP', 'SAA1', 'SAA2']\n",
            "INFO:OmicsIntegrator.graph:['CFHR1', 'H2AC20', 'H2BC21', 'IGHV1-24', 'IGHV2-26', 'IGHV5-51', 'IGLV9-49', 'KRTDAP', 'SAA1', 'SAA2']\n"
          ]
        },
        {
          "output_type": "stream",
          "name": "stdout",
          "text": [
            "121\n",
            "548.3604752130003\n"
          ]
        }
      ]
    },
    {
      "cell_type": "code",
      "source": [
        "nx.draw_spring(augmented_forest)"
      ],
      "metadata": {
        "colab": {
          "base_uri": "https://localhost:8080/",
          "height": 319
        },
        "id": "f81OmVpVUKc5",
        "outputId": "d0ddc49b-c281-4db7-8087-3751a6c0c160"
      },
      "execution_count": 11,
      "outputs": [
        {
          "output_type": "display_data",
          "data": {
            "text/plain": [
              "<Figure size 432x288 with 1 Axes>"
            ],
            "image/png": "[encoded data removed]"
          },
          "metadata": {}
        }
      ]
    },
    {
      "cell_type": "code",
      "source": [
        "oi.get_networkx_graph_as_dataframe_of_nodes(augmented_forest).head()"
      ],
      "metadata": {
        "colab": {
          "base_uri": "https://localhost:8080/",
          "height": 357
        },
        "id": "QI3wJI9cUbjV",
        "outputId": "88f4160f-559c-455b-ef33-741583762456"
      },
      "execution_count": 12,
      "outputs": [
        {
          "output_type": "execute_result",
          "data": {
            "text/plain": [
              "             prize  up_or_downregulated  terminal     type  degree  \\\n",
              "APCS      1.185718                  1.0      True  protein      34   \n",
              "CFD       1.180074                  1.0      True  protein      14   \n",
              "C6        0.550028                  1.0      True  protein      16   \n",
              "APOA4     0.647245                 -1.0      True  protein      23   \n",
              "IGKV3-20  1.316362                  1.0      True  protein       4   \n",
              "\n",
              "          betweenness louvain_clusters         location  \\\n",
              "APCS         0.005125                0    extracellular   \n",
              "CFD          0.002011                1    extracellular   \n",
              "C6           0.009486                2  plasma_membrane   \n",
              "APOA4        0.000407                3    extracellular   \n",
              "IGKV3-20     0.000000                1              NaN   \n",
              "\n",
              "                general_process                  specific_process  \\\n",
              "APCS      biological regulation  regulation of biological process   \n",
              "CFD       immune system process           immune effector process   \n",
              "C6        biological regulation  regulation of biological process   \n",
              "APOA4     biological regulation  regulation of biological process   \n",
              "IGKV3-20  immune system process           immune effector process   \n",
              "\n",
              "         general_function specific_function  \n",
              "APCS              binding   protein binding  \n",
              "CFD             catalytic         hydrolase  \n",
              "C6                binding   protein binding  \n",
              "APOA4             binding   protein binding  \n",
              "IGKV3-20        catalytic         hydrolase  "
            ],
            "text/html": [
              "\n",
              "  <div id=\"df-3b61f0cc-e7b3-4d39-81d5-dfad060ed0f9\">\n",
              "    <div class=\"colab-df-container\">\n",
              "      <div>\n",
              "<style scoped>\n",
              "    .dataframe tbody tr th:only-of-type {\n",
              "        vertical-align: middle;\n",
              "    }\n",
              "\n",
              "    .dataframe tbody tr th {\n",
              "        vertical-align: top;\n",
              "    }\n",
              "\n",
              "    .dataframe thead th {\n",
              "        text-align: right;\n",
              "    }\n",
              "</style>\n",
              "<table border=\"1\" class=\"dataframe\">\n",
              "  <thead>\n",
              "    <tr style=\"text-align: right;\">\n",
              "      <th></th>\n",
              "      <th>prize</th>\n",
              "      <th>up_or_downregulated</th>\n",
              "      <th>terminal</th>\n",
              "      <th>type</th>\n",
              "      <th>degree</th>\n",
              "      <th>betweenness</th>\n",
              "      <th>louvain_clusters</th>\n",
              "      <th>location</th>\n",
              "      <th>general_process</th>\n",
              "      <th>specific_process</th>\n",
              "      <th>general_function</th>\n",
              "      <th>specific_function</th>\n",
              "    </tr>\n",
              "  </thead>\n",
              "  <tbody>\n",
              "    <tr>\n",
              "      <th>APCS</th>\n",
              "      <td>1.185718</td>\n",
              "      <td>1.0</td>\n",
              "      <td>True</td>\n",
              "      <td>protein</td>\n",
              "      <td>34</td>\n",
              "      <td>0.005125</td>\n",
              "      <td>0</td>\n",
              "      <td>extracellular</td>\n",
              "      <td>biological regulation</td>\n",
              "      <td>regulation of biological process</td>\n",
              "      <td>binding</td>\n",
              "      <td>protein binding</td>\n",
              "    </tr>\n",
              "    <tr>\n",
              "      <th>CFD</th>\n",
              "      <td>1.180074</td>\n",
              "      <td>1.0</td>\n",
              "      <td>True</td>\n",
              "      <td>protein</td>\n",
              "      <td>14</td>\n",
              "      <td>0.002011</td>\n",
              "      <td>1</td>\n",
              "      <td>extracellular</td>\n",
              "      <td>immune system process</td>\n",
              "      <td>immune effector process</td>\n",
              "      <td>catalytic</td>\n",
              "      <td>hydrolase</td>\n",
              "    </tr>\n",
              "    <tr>\n",
              "      <th>C6</th>\n",
              "      <td>0.550028</td>\n",
              "      <td>1.0</td>\n",
              "      <td>True</td>\n",
              "      <td>protein</td>\n",
              "      <td>16</td>\n",
              "      <td>0.009486</td>\n",
              "      <td>2</td>\n",
              "      <td>plasma_membrane</td>\n",
              "      <td>biological regulation</td>\n",
              "      <td>regulation of biological process</td>\n",
              "      <td>binding</td>\n",
              "      <td>protein binding</td>\n",
              "    </tr>\n",
              "    <tr>\n",
              "      <th>APOA4</th>\n",
              "      <td>0.647245</td>\n",
              "      <td>-1.0</td>\n",
              "      <td>True</td>\n",
              "      <td>protein</td>\n",
              "      <td>23</td>\n",
              "      <td>0.000407</td>\n",
              "      <td>3</td>\n",
              "      <td>extracellular</td>\n",
              "      <td>biological regulation</td>\n",
              "      <td>regulation of biological process</td>\n",
              "      <td>binding</td>\n",
              "      <td>protein binding</td>\n",
              "    </tr>\n",
              "    <tr>\n",
              "      <th>IGKV3-20</th>\n",
              "      <td>1.316362</td>\n",
              "      <td>1.0</td>\n",
              "      <td>True</td>\n",
              "      <td>protein</td>\n",
              "      <td>4</td>\n",
              "      <td>0.000000</td>\n",
              "      <td>1</td>\n",
              "      <td>NaN</td>\n",
              "      <td>immune system process</td>\n",
              "      <td>immune effector process</td>\n",
              "      <td>catalytic</td>\n",
              "      <td>hydrolase</td>\n",
              "    </tr>\n",
              "  </tbody>\n",
              "</table>\n",
              "</div>\n",
              "      <button class=\"colab-df-convert\" onclick=\"convertToInteractive('df-3b61f0cc-e7b3-4d39-81d5-dfad060ed0f9')\"\n",
              "              title=\"Convert this dataframe to an interactive table.\"\n",
              "              style=\"display:none;\">\n",
              "        \n",
              "  <svg xmlns=\"http://www.w3.org/2000/svg\" height=\"24px\"viewBox=\"0 0 24 24\"\n",
              "       width=\"24px\">\n",
              "    <path d=\"M0 0h24v24H0V0z\" fill=\"none\"/>\n",
              "    <path d=\"M18.56 5.44l.94 2.06.94-2.06 2.06-.94-2.06-.94-.94-2.06-.94 2.06-2.06.94zm-11 1L8.5 8.5l.94-2.06 2.06-.94-2.06-.94L8.5 2.5l-.94 2.06-2.06.94zm10 10l.94 2.06.94-2.06 2.06-.94-2.06-.94-.94-2.06-.94 2.06-2.06.94z\"/><path d=\"M17.41 7.96l-1.37-1.37c-.4-.4-.92-.59-1.43-.59-.52 0-1.04.2-1.43.59L10.3 9.45l-7.72 7.72c-.78.78-.78 2.05 0 2.83L4 21.41c.39.39.9.59 1.41.59.51 0 1.02-.2 1.41-.59l7.78-7.78 2.81-2.81c.8-.78.8-2.07 0-2.86zM5.41 20L4 18.59l7.72-7.72 1.47 1.35L5.41 20z\"/>\n",
              "  </svg>\n",
              "      </button>\n",
              "      \n",
              "  <style>\n",
              "    .colab-df-container {\n",
              "      display:flex;\n",
              "      flex-wrap:wrap;\n",
              "      gap: 12px;\n",
              "    }\n",
              "\n",
              "    .colab-df-convert {\n",
              "      background-color: #E8F0FE;\n",
              "      border: none;\n",
              "      border-radius: 50%;\n",
              "      cursor: pointer;\n",
              "      display: none;\n",
              "      fill: #1967D2;\n",
              "      height: 32px;\n",
              "      padding: 0 0 0 0;\n",
              "      width: 32px;\n",
              "    }\n",
              "\n",
              "    .colab-df-convert:hover {\n",
              "      background-color: #E2EBFA;\n",
              "      box-shadow: 0px 1px 2px rgba(60, 64, 67, 0.3), 0px 1px 3px 1px rgba(60, 64, 67, 0.15);\n",
              "      fill: #174EA6;\n",
              "    }\n",
              "\n",
              "    [theme=dark] .colab-df-convert {\n",
              "      background-color: #3B4455;\n",
              "      fill: #D2E3FC;\n",
              "    }\n",
              "\n",
              "    [theme=dark] .colab-df-convert:hover {\n",
              "      background-color: #434B5C;\n",
              "      box-shadow: 0px 1px 3px 1px rgba(0, 0, 0, 0.15);\n",
              "      filter: drop-shadow(0px 1px 2px rgba(0, 0, 0, 0.3));\n",
              "      fill: #FFFFFF;\n",
              "    }\n",
              "  </style>\n",
              "\n",
              "      <script>\n",
              "        const buttonEl =\n",
              "          document.querySelector('#df-3b61f0cc-e7b3-4d39-81d5-dfad060ed0f9 button.colab-df-convert');\n",
              "        buttonEl.style.display =\n",
              "          google.colab.kernel.accessAllowed ? 'block' : 'none';\n",
              "\n",
              "        async function convertToInteractive(key) {\n",
              "          const element = document.querySelector('#df-3b61f0cc-e7b3-4d39-81d5-dfad060ed0f9');\n",
              "          const dataTable =\n",
              "            await google.colab.kernel.invokeFunction('convertToInteractive',\n",
              "                                                     [key], {});\n",
              "          if (!dataTable) return;\n",
              "\n",
              "          const docLinkHtml = 'Like what you see? Visit the ' +\n",
              "            '<a target=\"_blank\" href=https://colab.research.google.com/notebooks/data_table.ipynb>data table notebook</a>'\n",
              "            + ' to learn more about interactive tables.';\n",
              "          element.innerHTML = '';\n",
              "          dataTable['output_type'] = 'display_data';\n",
              "          await google.colab.output.renderOutput(dataTable, element);\n",
              "          const docLink = document.createElement('div');\n",
              "          docLink.innerHTML = docLinkHtml;\n",
              "          element.appendChild(docLink);\n",
              "        }\n",
              "      </script>\n",
              "    </div>\n",
              "  </div>\n",
              "  "
            ]
          },
          "metadata": {},
          "execution_count": 12
        }
      ]
    },
    {
      "cell_type": "code",
      "source": [
        "oi.output_networkx_graph_as_interactive_html(augmented_forest)"
      ],
      "metadata": {
        "colab": {
          "base_uri": "https://localhost:8080/"
        },
        "id": "78wMXTrDUd3x",
        "outputId": "d5c39046-afcd-4444-e1bd-26c5001d4b6e"
      },
      "execution_count": 13,
      "outputs": [
        {
          "output_type": "execute_result",
          "data": {
            "text/plain": [
              "PosixPath('/content/graph.html')"
            ]
          },
          "metadata": {},
          "execution_count": 13
        }
      ]
    },
    {
      "cell_type": "code",
      "source": [
        "oi.get_networkx_graph_as_dataframe_of_edges(augmented_forest).to_csv('edges.txt', sep='\\t', header=True, index=False)\n",
        "oi.get_networkx_graph_as_dataframe_of_nodes(augmented_forest).to_csv('nodes.txt', sep='\\t', header=True, index=True)\n",
        "\n",
        "oi.output_networkx_graph_as_graphml_for_cytoscape(augmented_forest, output_dir='', filename='results.graphml')\n",
        "oi.output_networkx_graph_as_interactive_html(augmented_forest, output_dir='',filename=\"pcsf.html\")"
      ],
      "metadata": {
        "id": "8iQQ0A0FULAu"
      },
      "execution_count": null,
      "outputs": []
    }
  ]
}